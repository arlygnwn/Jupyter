{
 "cells": [
  {
   "cell_type": "code",
   "execution_count": 3,
   "id": "ae3ae916-0a18-49da-9d47-29910245a822",
   "metadata": {},
   "outputs": [],
   "source": [
    "from pypdf import PdfWriter # import library"
   ]
  },
  {
   "cell_type": "code",
   "execution_count": 5,
   "id": "ee1ab298-64cc-4aec-ac55-8e70a0117448",
   "metadata": {},
   "outputs": [],
   "source": [
    "writer = PdfWriter(clone_from=\"file_.pdf\") # Clone file Pdf that will be used\n",
    "\n",
    "for page in writer.pages:\n",
    "    for img in page.images:\n",
    "        img.replace(img.image, quality=80) # Compross quality image to 80\n",
    "\n",
    "with open(\"new_file_.pdf\", \"wb\") as f:\n",
    "    writer.write(f) # Write a new file and renaming"
   ]
  },
  {
   "cell_type": "code",
   "execution_count": null,
   "id": "ff913b71-65cb-4fb8-b793-a09d72a647bb",
   "metadata": {},
   "outputs": [],
   "source": []
  }
 ],
 "metadata": {
  "kernelspec": {
   "display_name": "Python 3 (ipykernel)",
   "language": "python",
   "name": "python3"
  },
  "language_info": {
   "codemirror_mode": {
    "name": "ipython",
    "version": 3
   },
   "file_extension": ".py",
   "mimetype": "text/x-python",
   "name": "python",
   "nbconvert_exporter": "python",
   "pygments_lexer": "ipython3",
   "version": "3.13.5"
  }
 },
 "nbformat": 4,
 "nbformat_minor": 5
}
